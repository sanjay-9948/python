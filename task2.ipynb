{
  "nbformat": 4,
  "nbformat_minor": 0,
  "metadata": {
    "colab": {
      "provenance": [],
      "authorship_tag": "ABX9TyMQWPZTjZHnMT+tXbd4h0rY",
      "include_colab_link": true
    },
    "kernelspec": {
      "name": "python3",
      "display_name": "Python 3"
    },
    "language_info": {
      "name": "python"
    }
  },
  "cells": [
    {
      "cell_type": "markdown",
      "metadata": {
        "id": "view-in-github",
        "colab_type": "text"
      },
      "source": [
        "<a href=\"https://colab.research.google.com/github/sanjay-9948/python/blob/main/task2.ipynb\" target=\"_parent\"><img src=\"https://colab.research.google.com/assets/colab-badge.svg\" alt=\"Open In Colab\"/></a>"
      ]
    },
    {
      "cell_type": "code",
      "execution_count": 1,
      "metadata": {
        "colab": {
          "base_uri": "https://localhost:8080/"
        },
        "id": "ldoKPlZGIVMs",
        "outputId": "9c706fd9-5e25-417f-ccc3-0e01b2bc7643"
      },
      "outputs": [
        {
          "output_type": "stream",
          "name": "stdout",
          "text": [
            "Enter the room temperature: 38\n",
            "Too Hot\n"
          ]
        }
      ],
      "source": [
        "#temperature Alert system\n",
        "temperature = int(input(\"Enter the room temperature: \"))\n",
        "if temperature < 18:\n",
        "    print(\"Too cold\")\n",
        "elif 18 <= temperature <= 25:\n",
        "    print(\"Comfortable\")\n",
        "else:\n",
        "    print(\"Too Hot\")"
      ]
    },
    {
      "cell_type": "code",
      "source": [
        "# Password Retry system\n",
        "correct_password = \"admin123\"\n",
        "attempts = 0\n",
        "\n",
        "while attempts < 3:\n",
        "    password = input(\"Enter password: \")\n",
        "    if password == correct_password:\n",
        "        print(\"Access granted\")\n",
        "        break\n",
        "    else:\n",
        "        print(\"Incorrect password\")\n",
        "        attempts += 1\n",
        "\n",
        "if attempts == 3:\n",
        "    print(\"Access denied\")"
      ],
      "metadata": {
        "colab": {
          "base_uri": "https://localhost:8080/"
        },
        "id": "z_9dGk1iIZVx",
        "outputId": "9623ecc6-c1bb-442e-ad0b-2ab2e1b461d3"
      },
      "execution_count": 3,
      "outputs": [
        {
          "output_type": "stream",
          "name": "stdout",
          "text": [
            "Enter password: poundspoweder\n",
            "Incorrect password\n",
            "Enter password: admin123\n",
            "Access granted\n"
          ]
        }
      ]
    },
    {
      "cell_type": "code",
      "source": [
        "# Factorial Finder\n",
        "num = int(input(\"Enter a number: \"))\n",
        "factorial = 1\n",
        "for i in range(1, num + 1):\n",
        "    factorial *= i\n",
        "print(\"Factorial of\", num, \"is\",factorial)\n"
      ],
      "metadata": {
        "colab": {
          "base_uri": "https://localhost:8080/"
        },
        "id": "3IF1HH5_IsZH",
        "outputId": "7ce07218-a69b-4de1-a5f7-6871338e176d"
      },
      "execution_count": 6,
      "outputs": [
        {
          "output_type": "stream",
          "name": "stdout",
          "text": [
            "Enter a number: 9\n",
            "Factorial of 9 is 362880\n"
          ]
        }
      ]
    }
  ]
}