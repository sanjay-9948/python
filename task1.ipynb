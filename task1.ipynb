{
  "nbformat": 4,
  "nbformat_minor": 0,
  "metadata": {
    "colab": {
      "provenance": [],
      "authorship_tag": "ABX9TyNXcAzVbiMe5XYuQXIQq2UX",
      "include_colab_link": true
    },
    "kernelspec": {
      "name": "python3",
      "display_name": "Python 3"
    },
    "language_info": {
      "name": "python"
    }
  },
  "cells": [
    {
      "cell_type": "markdown",
      "metadata": {
        "id": "view-in-github",
        "colab_type": "text"
      },
      "source": [
        "<a href=\"https://colab.research.google.com/github/sanjay-9948/python/blob/main/task1.ipynb\" target=\"_parent\"><img src=\"https://colab.research.google.com/assets/colab-badge.svg\" alt=\"Open In Colab\"/></a>"
      ]
    },
    {
      "cell_type": "markdown",
      "source": [],
      "metadata": {
        "id": "YcdwVsyvHKVM"
      }
    },
    {
      "cell_type": "code",
      "execution_count": 3,
      "metadata": {
        "colab": {
          "base_uri": "https://localhost:8080/"
        },
        "id": "Qzt8xtMFGyEJ",
        "outputId": "e9d10671-44ed-4016-a362-4e05e5f72171"
      },
      "outputs": [
        {
          "output_type": "stream",
          "name": "stdout",
          "text": [
            "Enter first value: 8\n",
            "Enter second value: 17\n",
            "Addition: 25.0\n",
            "Subtraction: -9.0\n",
            "Multiplication: 136.0\n",
            "Division: 0.47058823529411764\n"
          ]
        }
      ],
      "source": [
        "num1 = float(input(\"Enter first value: \"))\n",
        "num2 = float(input(\"Enter second value: \"))\n",
        "print(\"Addition:\", num1 + num2)\n",
        "print(\"Subtraction:\", num1 - num2)\n",
        "print(\"Multiplication:\", num1 * num2)\n",
        "print(\"Division:\",num1/num2)"
      ]
    },
    {
      "cell_type": "code",
      "source": [
        "a = float(input(\"Enter first score: \"))\n",
        "b = float(input(\"Enter second score: \"))\n",
        "print(\"a > b:\", a > b)\n",
        "print(\"a < b:\", a < b)\n",
        "print(\"a == b:\", a == b)\n",
        "print(\"a != b:\", a != b)\n",
        "print(\"a >= b:\", a >= b)\n",
        "print(\"a <= b:\",a<=b)"
      ],
      "metadata": {
        "colab": {
          "base_uri": "https://localhost:8080/"
        },
        "id": "Cb0T03krHd0d",
        "outputId": "2e2b2d6a-9fb5-48cd-c269-3a21a4b9be4c"
      },
      "execution_count": 4,
      "outputs": [
        {
          "output_type": "stream",
          "name": "stdout",
          "text": [
            "Enter first score: 6\n",
            "Enter second score: 67\n",
            "a > b: False\n",
            "a < b: True\n",
            "a == b: False\n",
            "a != b: True\n",
            "a >= b: False\n",
            "a <= b: True\n"
          ]
        }
      ]
    },
    {
      "cell_type": "code",
      "source": [],
      "metadata": {
        "id": "bFgVOP66IQgZ"
      },
      "execution_count": null,
      "outputs": []
    },
    {
      "cell_type": "code",
      "source": [
        "test1 = int(input(\"Enter marks for Test 1: \"))\n",
        "test2 = int(input(\"Enter marks for Test 2: \"))\n",
        "test3 = int(input(\"Enter marks for Test 3: \"))\n",
        "\n",
        "print(\"Passed all tests: \", test1 > 40 and test2 > 40 and test3 > 40)\n",
        "print(\"Passed at least one test: \", test1 > 40 or test2 > 40 or test3 > 40)\n",
        "print(\"Failed all tests: \", not (test1 > 40 or test2 > 40 or test3 > 40))"
      ],
      "metadata": {
        "colab": {
          "base_uri": "https://localhost:8080/"
        },
        "id": "jOzIRR4MHoqP",
        "outputId": "af1f954c-7b7e-4734-919d-e0d8e8bada5d"
      },
      "execution_count": 8,
      "outputs": [
        {
          "output_type": "stream",
          "name": "stdout",
          "text": [
            "Enter marks for Test 1: 9\n",
            "Enter marks for Test 2: 8\n",
            "Enter marks for Test 3: 4\n",
            "Passed all tests:  False\n",
            "Passed at least one test:  False\n",
            "Failed all tests:  True\n"
          ]
        }
      ]
    }
  ]
}