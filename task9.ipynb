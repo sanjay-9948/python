{
  "nbformat": 4,
  "nbformat_minor": 0,
  "metadata": {
    "colab": {
      "provenance": [],
      "authorship_tag": "ABX9TyPYdNJWw9fG8zcLcFwctkNO",
      "include_colab_link": true
    },
    "kernelspec": {
      "name": "python3",
      "display_name": "Python 3"
    },
    "language_info": {
      "name": "python"
    }
  },
  "cells": [
    {
      "cell_type": "markdown",
      "metadata": {
        "id": "view-in-github",
        "colab_type": "text"
      },
      "source": [
        "<a href=\"https://colab.research.google.com/github/sanjay-9948/python/blob/main/task9.ipynb\" target=\"_parent\"><img src=\"https://colab.research.google.com/assets/colab-badge.svg\" alt=\"Open In Colab\"/></a>"
      ]
    },
    {
      "cell_type": "code",
      "execution_count": 1,
      "metadata": {
        "id": "apubeZ57O3GK",
        "colab": {
          "base_uri": "https://localhost:8080/"
        },
        "outputId": "073358e5-8b10-4ea0-da08-c8e27b661040"
      },
      "outputs": [
        {
          "output_type": "stream",
          "name": "stdout",
          "text": [
            "Enter student marks (0–100): 56\n",
            "Marks accepted: 56.0\n"
          ]
        }
      ],
      "source": [
        "# Student Marks Validation with Exception Handling\n",
        "\n",
        "def validate_marks():\n",
        "    try:\n",
        "        marks = float(input(\"Enter student marks (0–100): \"))\n",
        "        if marks < 0 or marks > 100:\n",
        "            raise ValueError(\"Marks must be between 0 and 100!\")\n",
        "        print(f\"Marks accepted: {marks}\")\n",
        "    except ValueError as e:\n",
        "        print(\"Error:\", e)\n",
        "\n",
        "# Main program\n",
        "validate_marks()"
      ]
    },
    {
      "cell_type": "code",
      "source": [
        "# Division Calculator with Exception Handling\n",
        "\n",
        "def divide_numbers():\n",
        "    try:\n",
        "        num1 = float(input(\"Enter numerator: \"))\n",
        "        num2 = float(input(\"Enter denominator: \"))\n",
        "        result = num1 / num2\n",
        "        print(f\"Result = {result}\")\n",
        "    except ZeroDivisionError:\n",
        "        print(\"Error: Division by zero is not allowed!\")\n",
        "    except ValueError:\n",
        "        print(\"Error: Please enter valid numbers only!\")\n",
        "\n",
        "# Main program\n",
        "divide_numbers()"
      ],
      "metadata": {
        "id": "LWAlT4hMO9IU",
        "colab": {
          "base_uri": "https://localhost:8080/"
        },
        "outputId": "f7f02b6d-ab42-4786-d4da-253de6454baa"
      },
      "execution_count": 2,
      "outputs": [
        {
          "output_type": "stream",
          "name": "stdout",
          "text": [
            "Enter numerator: 56\n",
            "Enter denominator: 37\n",
            "Result = 1.5135135135135136\n"
          ]
        }
      ]
    }
  ]
}