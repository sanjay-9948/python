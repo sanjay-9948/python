{
  "nbformat": 4,
  "nbformat_minor": 0,
  "metadata": {
    "colab": {
      "provenance": [],
      "authorship_tag": "ABX9TyPRf7dh8QH4wprP4q0bvVL6",
      "include_colab_link": true
    },
    "kernelspec": {
      "name": "python3",
      "display_name": "Python 3"
    },
    "language_info": {
      "name": "python"
    }
  },
  "cells": [
    {
      "cell_type": "markdown",
      "metadata": {
        "id": "view-in-github",
        "colab_type": "text"
      },
      "source": [
        "<a href=\"https://colab.research.google.com/github/sanjay-9948/python/blob/main/task8.ipynb\" target=\"_parent\"><img src=\"https://colab.research.google.com/assets/colab-badge.svg\" alt=\"Open In Colab\"/></a>"
      ]
    },
    {
      "cell_type": "code",
      "execution_count": 2,
      "metadata": {
        "colab": {
          "base_uri": "https://localhost:8080/"
        },
        "id": "7rlCa0VvOKUw",
        "outputId": "c7cfc8a5-f405-4711-fcd0-db756fc5a7fa"
      },
      "outputs": [
        {
          "output_type": "stream",
          "name": "stdout",
          "text": [
            "Enter how many Fibonacci numbers to generate: 8\n",
            "Fibonacci sequence up to 8 terms:\n",
            "0 1 1 2 3 5 8 13 "
          ]
        }
      ],
      "source": [
        "# Fibonacci Sequence Generator using generator function\n",
        "\n",
        "def fibonacci(n):\n",
        "    a, b = 0, 1\n",
        "    count = 0\n",
        "    while count < n:\n",
        "        yield a\n",
        "        a, b = b, a + b\n",
        "        count += 1\n",
        "\n",
        "# Main program\n",
        "num = int(input(\"Enter how many Fibonacci numbers to generate: \"))\n",
        "\n",
        "print(f\"Fibonacci sequence up to {num} terms:\")\n",
        "for val in fibonacci(num):\n",
        "    print(val,end=\" \")"
      ]
    },
    {
      "cell_type": "code",
      "source": [
        "import time\n",
        "import random\n",
        "\n",
        "# Decorator to calculate execution time\n",
        "def timing_decorator(func):\n",
        "    def wrapper(*args, **kwargs):\n",
        "        start_time = time.time()\n",
        "        result = func(*args, **kwargs)\n",
        "        end_time = time.time()\n",
        "        print(f\"\\nExecution Time: {end_time - start_time:.6f} seconds\")\n",
        "        return result\n",
        "    return wrapper\n",
        "\n",
        "@timing_decorator\n",
        "def sort_random_numbers():\n",
        "    numbers = [random.randint(1, 1000) for _ in range(10000)]\n",
        "    print(\"Sorting 10,000 random numbers...\")\n",
        "    numbers.sort()\n",
        "    print(\"Sorting completed!\")\n",
        "\n",
        "# Main program\n",
        "sort_random_numbers()\n"
      ],
      "metadata": {
        "colab": {
          "base_uri": "https://localhost:8080/"
        },
        "id": "Y1eRwloaOeIB",
        "outputId": "133a4ace-6852-48e4-9b6c-39c4da51cb16"
      },
      "execution_count": 3,
      "outputs": [
        {
          "output_type": "stream",
          "name": "stdout",
          "text": [
            "Sorting 10,000 random numbers...\n",
            "Sorting completed!\n",
            "\n",
            "Execution Time: 0.008071 seconds\n"
          ]
        }
      ]
    },
    {
      "cell_type": "code",
      "source": [],
      "metadata": {
        "id": "5obCjunqOb-q"
      },
      "execution_count": null,
      "outputs": []
    }
  ]
}