{
  "nbformat": 4,
  "nbformat_minor": 0,
  "metadata": {
    "colab": {
      "provenance": [],
      "authorship_tag": "ABX9TyOcfl0fQ0KNQNSrYDt8D8H2",
      "include_colab_link": true
    },
    "kernelspec": {
      "name": "python3",
      "display_name": "Python 3"
    },
    "language_info": {
      "name": "python"
    }
  },
  "cells": [
    {
      "cell_type": "markdown",
      "metadata": {
        "id": "view-in-github",
        "colab_type": "text"
      },
      "source": [
        "<a href=\"https://colab.research.google.com/github/sanjay-9948/python/blob/main/task7.ipynb\" target=\"_parent\"><img src=\"https://colab.research.google.com/assets/colab-badge.svg\" alt=\"Open In Colab\"/></a>"
      ]
    },
    {
      "cell_type": "markdown",
      "source": [
        "Task 7a is bank balanace"
      ],
      "metadata": {
        "id": "OMxtzoFsNjQd"
      }
    },
    {
      "cell_type": "code",
      "execution_count": null,
      "metadata": {
        "colab": {
          "base_uri": "https://localhost:8080/"
        },
        "id": "QX_VknEENVBg",
        "outputId": "94cc85f4-e6cb-4756-a1d0-eb439dd4bd31"
      },
      "outputs": [
        {
          "output_type": "stream",
          "name": "stdout",
          "text": [
            "\n",
            "--- Banking Transaction System ---\n",
            "1. Deposit Money\n",
            "2. Withdraw Money\n",
            "3. Check Balance\n",
            "4. Exit\n",
            "Enter your choice: 1\n",
            "Enter amount to deposit: 500000\n",
            "₹500000.0 deposited successfully. Current balance: ₹500000.0\n",
            "\n",
            "--- Banking Transaction System ---\n",
            "1. Deposit Money\n",
            "2. Withdraw Money\n",
            "3. Check Balance\n",
            "4. Exit\n",
            "Enter your choice: 2\n",
            "Enter amount to withdraw: 1000000\n",
            "Insufficient balance!\n",
            "\n",
            "--- Banking Transaction System ---\n",
            "1. Deposit Money\n",
            "2. Withdraw Money\n",
            "3. Check Balance\n",
            "4. Exit\n",
            "Enter your choice: 4\n",
            "Thank you for using our banking system!\n"
          ]
        }
      ],
      "source": [
        "# Banking Transaction System using functions\n",
        "\n",
        "balance = 0  # global variable to store balance\n",
        "\n",
        "def deposit(amount):\n",
        "    global balance\n",
        "    balance += amount\n",
        "    print(f\"₹{amount} deposited successfully. Current balance: ₹{balance}\")\n",
        "\n",
        "def withdraw(amount):\n",
        "    global balance\n",
        "    if amount <= balance:\n",
        "        balance -= amount\n",
        "        print(f\"₹{amount} withdrawn successfully. Current balance: ₹{balance}\")\n",
        "    else:\n",
        "        print(\"Insufficient balance!\")\n",
        "\n",
        "def check_balance():\n",
        "    print(f\"Your current balance is: ₹{balance}\")\n",
        "\n",
        "# Main program\n",
        "while True:\n",
        "    print(\"\\n--- Banking Transaction System ---\")\n",
        "    print(\"1. Deposit Money\")\n",
        "    print(\"2. Withdraw Money\")\n",
        "    print(\"3. Check Balance\")\n",
        "    print(\"4. Exit\")\n",
        "\n",
        "    choice = int(input(\"Enter your choice: \"))\n",
        "\n",
        "    if choice == 1:\n",
        "        amt = float(input(\"Enter amount to deposit: \"))\n",
        "        deposit(amt)\n",
        "    elif choice == 2:\n",
        "        amt = float(input(\"Enter amount to withdraw: \"))\n",
        "        withdraw(amt)\n",
        "    elif choice == 3:\n",
        "        check_balance()\n",
        "    elif choice == 4:\n",
        "        print(\"Thank you for using our banking system!\")\n",
        "        break\n",
        "    else:\n",
        "        print(\"Invalid choice! Please try again.\")\n"
      ]
    },
    {
      "cell_type": "code",
      "source": [
        "# Student Result Calculator using functions\n",
        "\n",
        "def get_marks():\n",
        "    m1 = int(input(\"Enter marks of Subject 1: \"))\n",
        "    m2 = int(input(\"Enter marks of Subject 2: \"))\n",
        "    m3 = int(input(\"Enter marks of Subject 3: \"))\n",
        "    return m1, m2, m3\n",
        "\n",
        "def calculate_total_average(m1, m2, m3):\n",
        "    total = m1 + m2 + m3\n",
        "    average = total / 3\n",
        "    return total, average\n",
        "\n",
        "def find_grade(average):\n",
        "    if average >= 90:\n",
        "        return 'A'\n",
        "    elif average >= 75:\n",
        "        return 'B'\n",
        "    elif average >= 50:\n",
        "        return 'C'\n",
        "    else:\n",
        "        return 'Fail'\n",
        "\n",
        "def display_result(total, average, grade):\n",
        "    print(\"\\n--- Student Result ---\")\n",
        "    print(f\"Total Marks: {total}\")\n",
        "    print(f\"Average Marks: {average:.2f}\")\n",
        "    print(f\"Grade: {grade}\")\n",
        "\n",
        "# Main program\n",
        "m1, m2, m3 = get_marks()\n",
        "total, average = calculate_total_average(m1, m2, m3)\n",
        "grade = find_grade(average)\n",
        "display_result(total,average,grade)"
      ],
      "metadata": {
        "colab": {
          "base_uri": "https://localhost:8080/"
        },
        "id": "vqqRc8DzN981",
        "outputId": "b5787707-049d-439c-bbab-487b06f1139c"
      },
      "execution_count": null,
      "outputs": [
        {
          "output_type": "stream",
          "name": "stdout",
          "text": [
            "Enter marks of Subject 1: 89\n",
            "Enter marks of Subject 2: 64\n",
            "Enter marks of Subject 3: 43\n",
            "\n",
            "--- Student Result ---\n",
            "Total Marks: 196\n",
            "Average Marks: 65.33\n",
            "Grade: C\n"
          ]
        }
      ]
    },
    {
      "cell_type": "code",
      "source": [],
      "metadata": {
        "id": "MmAOWQDsOFzb"
      },
      "execution_count": null,
      "outputs": []
    }
  ]
}