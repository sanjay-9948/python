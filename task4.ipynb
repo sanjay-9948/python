{
  "nbformat": 4,
  "nbformat_minor": 0,
  "metadata": {
    "colab": {
      "provenance": [],
      "authorship_tag": "ABX9TyP1Ui08NE8knvx1VqESOJDa",
      "include_colab_link": true
    },
    "kernelspec": {
      "name": "python3",
      "display_name": "Python 3"
    },
    "language_info": {
      "name": "python"
    }
  },
  "cells": [
    {
      "cell_type": "markdown",
      "metadata": {
        "id": "view-in-github",
        "colab_type": "text"
      },
      "source": [
        "<a href=\"https://colab.research.google.com/github/sanjay-9948/python/blob/main/task4.ipynb\" target=\"_parent\"><img src=\"https://colab.research.google.com/assets/colab-badge.svg\" alt=\"Open In Colab\"/></a>"
      ]
    },
    {
      "cell_type": "code",
      "execution_count": null,
      "metadata": {
        "id": "oCtGUubRJwOc"
      },
      "outputs": [],
      "source": [
        "Program!\n",
        "prices = [120, 85, 300, 150, 60]\n",
        "total_bill = sum(prices)\n",
        "highest_price = max(prices)\n",
        "lowest_price = min(prices)\n",
        "\n",
        "print(\"Total Bill Amount:\", total_bill)\n",
        "print(\"Highest Priced Item:\", highest_price)\n",
        "print(\"Lowest Priced Item:\",lowest_price)"
      ]
    },
    {
      "cell_type": "code",
      "source": [
        "\n",
        "students = [\n",
        "    (\"Rahul\", 456),\n",
        "    (\"Priya\", 390),\n",
        "    (\"Karan\", 420),\n",
        "    (\"Anita\", 470),\n",
        "    (\"Vijay\", 365)\n",
        "]\n",
        "\n",
        "highest_student = max(students, key=lambda x: x[1])\n",
        "print(\"Student with Highest marks:\", highest_student[0], highest_student[1])\n",
        "\n",
        "print(\"Students scoring above 400:\")\n",
        "for name, marks in students:\n",
        "    if marks > 400:\n",
        "        print(name,\"-\",marks)"
      ],
      "metadata": {
        "colab": {
          "base_uri": "https://localhost:8080/"
        },
        "id": "ZesuJSEWKe69",
        "outputId": "84f4ace9-47c3-4037-dc0c-08105368cb92"
      },
      "execution_count": 3,
      "outputs": [
        {
          "output_type": "stream",
          "name": "stdout",
          "text": [
            "Student with Highest marks: Anita 470\n",
            "Students scoring above 400:\n",
            "Rahul - 456\n",
            "Karan - 420\n",
            "Anita - 470\n"
          ]
        }
      ]
    },
    {
      "cell_type": "code",
      "source": [
        "countries = {\n",
        "    \"India\": \"New Delhi\",\n",
        "    \"France\": \"Paris\",\n",
        "    \"Japan\": \"Tokyo\"\n",
        "}\n",
        "\n",
        "new_country = input(\"Enter a new country:\")\n",
        "new_capital = input(\"Enter its capital:\")\n",
        "countries[new_country] = new_capital\n",
        "\n",
        "search_country = input(\"Enter country to find its capital:\")\n",
        "\n",
        "if search_country in countries:\n",
        "    print(\"capital of\", search_country, \"is\", countries[search_country])\n",
        "else:\n",
        "    print(\"Country not found!\")\n",
        "print (\"\\n country-capital pairs in alphabetical order:\")\n",
        "for country in sorted (countries):\n",
        "    print (country, \"-\", countries[country])"
      ],
      "metadata": {
        "colab": {
          "base_uri": "https://localhost:8080/"
        },
        "id": "TadK-HjPJyx4",
        "outputId": "98cd7292-eb25-4096-a818-bff5aa0d413a"
      },
      "execution_count": 4,
      "outputs": [
        {
          "output_type": "stream",
          "name": "stdout",
          "text": [
            "Enter a new country:India\n",
            "Enter its capital:Delhi\n",
            "Enter country to find its capital:pakistan\n",
            "Country not found!\n",
            "\n",
            " country-capital pairs in alphabetical order:\n",
            "France - Paris\n",
            "India - Delhi\n",
            "Japan - Tokyo\n"
          ]
        }
      ]
    },
    {
      "cell_type": "code",
      "source": [],
      "metadata": {
        "id": "oSTTH2j6LIC8"
      },
      "execution_count": null,
      "outputs": []
    }
  ]
}